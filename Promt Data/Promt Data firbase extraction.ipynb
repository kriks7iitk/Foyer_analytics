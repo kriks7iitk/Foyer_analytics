{
 "cells": [
  {
   "cell_type": "code",
   "execution_count": null,
   "metadata": {},
   "outputs": [],
   "source": [
    "import firebase_admin\n",
    "from firebase_admin import credentials\n",
    "from firebase_admin import firestore\n",
    "\n",
    "\n",
    "\n",
    "# Create a Firestore client\n",
    "db = firestore.client()\n",
    "\n",
    "# Get a reference to the \"user_preferences\" collection and \"promptTemplates\" document\n",
    "collection_ref = db.collection('customers').document('9BnrfEXtXTai2s1ori9jf5DpP5W2').collection('user_preferences')\n",
    "doc_ref = collection_ref.document('promptTemplates')\n",
    "\n",
    "# Retrieve the data from the document\n",
    "doc = doc_ref.get()\n",
    "if doc.exists:\n",
    "    data = doc.to_dict()\n",
    "    print(data)\n",
    "else:\n",
    "    print('No such document!')\n"
   ]
  },
  {
   "cell_type": "code",
   "execution_count": null,
   "metadata": {},
   "outputs": [],
   "source": [
    "# Initialize Firebase Admin SDK\n",
    "cred = credentials.Certificate('credential.json')\n",
    "firebase_admin.initialize_app(cred)"
   ]
  }
 ],
 "metadata": {
  "kernelspec": {
   "display_name": "Python 3",
   "language": "python",
   "name": "python3"
  },
  "language_info": {
   "codemirror_mode": {
    "name": "ipython",
    "version": 3
   },
   "file_extension": ".py",
   "mimetype": "text/x-python",
   "name": "python",
   "nbconvert_exporter": "python",
   "pygments_lexer": "ipython3",
   "version": "3.7.3"
  }
 },
 "nbformat": 4,
 "nbformat_minor": 2
}
